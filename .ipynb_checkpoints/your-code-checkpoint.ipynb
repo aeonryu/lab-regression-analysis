{
 "cells": [
  {
   "cell_type": "markdown",
   "metadata": {},
   "source": [
    "# Lab: Regression Analysis"
   ]
  },
  {
   "cell_type": "markdown",
   "metadata": {},
   "source": [
    "### Before you start:\n",
    "\n",
    "* Read the README.md file\n",
    "* Comment as much as you can and use the resources (README.md file) \n",
    "\n",
    "Happy learning!"
   ]
  },
  {
   "cell_type": "markdown",
   "metadata": {},
   "source": [
    "## Challenge 1\n",
    "I work at a coding bootcamp, and I have developed a theory that the younger my students are, the more often they are late to class. In order to test my hypothesis, I have collected some data in the following table:\n",
    "\n",
    "| StudentID | Age | Tardies |\n",
    "|--------|-----|------------|\n",
    "| 1      | 17  | 10         |\n",
    "| 2      | 51  | 1          |\n",
    "| 3      | 27  | 5          |\n",
    "| 4      | 21  | 9         |\n",
    "| 5      | 36  |  4         |\n",
    "| 6      | 48  |  2         |\n",
    "| 7      | 19  |  9         |\n",
    "| 8      | 26  | 6          |\n",
    "| 9      | 54  |  0         |\n",
    "| 10     | 30  |  3         |"
   ]
  },
  {
   "cell_type": "markdown",
   "metadata": {},
   "source": [
    "Use this command to create a dataframe with the data provided in the table. \n",
    "~~~~\n",
    "student_data = pd.DataFrame({'X': [x_values], 'Y': [y_values]})\n",
    "~~~~"
   ]
  },
  {
   "cell_type": "code",
   "execution_count": 8,
   "metadata": {},
   "outputs": [],
   "source": [
    "import pandas as pd\n",
    "import numpy as np\n",
    "import matplotlib.pyplot as plt"
   ]
  },
  {
   "cell_type": "code",
   "execution_count": 9,
   "metadata": {},
   "outputs": [],
   "source": [
    "student_data = pd.DataFrame({'X': [17,51,27,21,36,48,19,26,54,30], 'Y': [10,1,5,9,4,2,9,6,0,3]})"
   ]
  },
  {
   "cell_type": "markdown",
   "metadata": {},
   "source": [
    "Draw a dispersion diagram (scatter plot) for the data."
   ]
  },
  {
   "cell_type": "code",
   "execution_count": 11,
   "metadata": {},
   "outputs": [
    {
     "data": {
      "text/plain": [
       "Text(0, 0.5, 'Llegadas tarde')"
      ]
     },
     "execution_count": 11,
     "metadata": {},
     "output_type": "execute_result"
    },
    {
     "data": {
      "image/png": "[encoded data removed]",
      "text/plain": [
       "<Figure size 432x288 with 1 Axes>"
      ]
     },
     "metadata": {
      "needs_background": "light"
     },
     "output_type": "display_data"
    }
   ],
   "source": [
    "plt.scatter(student_data.X, student_data.Y)\n",
    "plt.xlabel('Edad')\n",
    "plt.ylabel('Llegadas tarde')"
   ]
  },
  {
   "cell_type": "markdown",
   "metadata": {},
   "source": [
    "Do you see a trend? Can you make any hypotheses about the relationship between age and number of tardies?"
   ]
  },
  {
   "cell_type": "code",
   "execution_count": 2,
   "metadata": {},
   "outputs": [],
   "source": [
    "# La hipótesis sería igual que la propuesta por el lab, mientras más joven se es más retardos es propenso a tener, es una relación lineal inversa"
   ]
  },
  {
   "cell_type": "markdown",
   "metadata": {},
   "source": [
    "Calculate the covariance and correlation of the variables in your plot. What is the difference between these two measures? Compare their values. What do they tell you in this case? Add your responses as comments after your code."
   ]
  },
  {
   "cell_type": "code",
   "execution_count": 17,
   "metadata": {},
   "outputs": [],
   "source": [
    "from scipy.stats import pearsonr"
   ]
  },
  {
   "cell_type": "code",
   "execution_count": 22,
   "metadata": {},
   "outputs": [
    {
     "data": {
      "text/plain": [
       "(-0.939162688688712, 5.566653834553479e-05)"
      ]
     },
     "execution_count": 22,
     "metadata": {},
     "output_type": "execute_result"
    }
   ],
   "source": [
    "pearsonr(student_data.X, student_data.Y) #Me regresa (Pearson’s correlation coefficient, 2-tailed p-value)\n",
    "#(-0.939162688688712, 5.566653834553479e-05)"
   ]
  },
  {
   "cell_type": "code",
   "execution_count": 20,
   "metadata": {},
   "outputs": [
    {
     "data": {
      "text/plain": [
       "array([[187.65555556, -45.56666667],\n",
       "       [-45.56666667,  12.54444444]])"
      ]
     },
     "execution_count": 20,
     "metadata": {},
     "output_type": "execute_result"
    }
   ],
   "source": [
    "np.cov(student_data.X, student_data.Y) #Me regresa una matriz de covarianza\n",
    "#array([[187.65555556, -45.56666667],\n",
    "#       [-45.56666667,  12.54444444]])"
   ]
  },
  {
   "cell_type": "markdown",
   "metadata": {},
   "source": [
    "Build a regression model for this data. What will be your outcome variable? What type of regression are you using? Add your responses as comments after your code."
   ]
  },
  {
   "cell_type": "code",
   "execution_count": 23,
   "metadata": {},
   "outputs": [],
   "source": [
    "from scipy.stats import linregress"
   ]
  },
  {
   "cell_type": "code",
   "execution_count": 25,
   "metadata": {},
   "outputs": [
    {
     "data": {
      "text/plain": [
       "(-0.2428207709159808,\n",
       " 12.888803363135768,\n",
       " -0.9391626886887121,\n",
       " 5.56665383455343e-05,\n",
       " 0.03139728816158607)"
      ]
     },
     "execution_count": 25,
     "metadata": {},
     "output_type": "execute_result"
    }
   ],
   "source": [
    "slope, intercept, r_value, p_value, std_err = linregress(student_data.X, student_data.Y)\n",
    "slope, intercept, r_value, p_value, std_err\n",
    "#(-0.2428207709159808,\n",
    "# 12.888803363135768,\n",
    "# -0.9391626886887121,\n",
    "# 5.56665383455343e-05,\n",
    "# 0.03139728816158607)\n",
    "\n",
    "#Estamos usando una regresión lineal simple, nos regresa una recta y = -0.24x + 12.88\n",
    "#El pvalue es muy pequeño (0.0000556)\n",
    "#La r es -0.939 por lo que r cuadrada es 0.881721 lo que significa que sí es significativa la correlación"
   ]
  },
  {
   "cell_type": "markdown",
   "metadata": {},
   "source": [
    "Plot your regression model on your scatter plot."
   ]
  },
  {
   "cell_type": "code",
   "execution_count": 28,
   "metadata": {},
   "outputs": [
    {
     "data": {
      "text/plain": [
       "[<matplotlib.lines.Line2D at 0x7f49b3614e10>]"
      ]
     },
     "execution_count": 28,
     "metadata": {},
     "output_type": "execute_result"
    },
    {
     "data": {
      "image/png": "[encoded data removed]",
      "text/plain": [
       "<Figure size 432x288 with 1 Axes>"
      ]
     },
     "metadata": {
      "needs_background": "light"
     },
     "output_type": "display_data"
    }
   ],
   "source": [
    "plt.scatter(student_data.X, student_data.Y)\n",
    "plt.xlabel('Edad')\n",
    "plt.ylabel('Llegadas tarde')\n",
    "\n",
    "plt.plot([15,60],[-0.24*15+12.88,-0.24*60+12.88], c='red')"
   ]
  },
  {
   "cell_type": "markdown",
   "metadata": {},
   "source": [
    "Interpret the results of your model. What can conclusions can you draw from your model and how confident in these conclusions are you? Can we say that age is a good predictor of tardiness? Add your responses as comments after your code."
   ]
  },
  {
   "cell_type": "code",
   "execution_count": 3,
   "metadata": {},
   "outputs": [],
   "source": [
    "# Podemos decir con confianza que la edad es un buen predictor de la tardanza debido a que \n",
    "# la r2 de la prueba de pearson nos arroja un valor de 0.88 por lo que sí hay correlación "
   ]
  },
  {
   "cell_type": "markdown",
   "metadata": {},
   "source": [
    "## Challenge 2\n",
    "For the second part of this lab, we will use the vehicles.csv data set. You can find a copy of the dataset in the git hub folder. This dataset includes variables related to vehicle characteristics, including the model, make, and energy efficiency standards, as well as each car's CO2 emissions. As discussed in class the goal of this exercise is to predict vehicles' CO2 emissions based on several independent variables. "
   ]
  },
  {
   "cell_type": "code",
   "execution_count": 41,
   "metadata": {},
   "outputs": [],
   "source": [
    "# Import any libraries you may need & the data\n",
    "import pandas as pd\n",
    "import numpy as np\n",
    "import matplotlib.pyplot as plt\n",
    "from scipy.stats import linregress\n",
    "%matplotlib inline"
   ]
  },
  {
   "cell_type": "code",
   "execution_count": 42,
   "metadata": {},
   "outputs": [],
   "source": [
    "vehicles = pd.read_csv('vehicles.csv')"
   ]
  },
  {
   "cell_type": "markdown",
   "metadata": {},
   "source": [
    "Let's use the following variables for our analysis: Year, Cylinders, Fuel Barrels/Year, Combined MPG, and Fuel Cost/Year. We will use 'CO2 Emission Grams/Mile' as our outcome variable. \n",
    "\n",
    "Calculate the correlations between each of these variables and the outcome. Which variable do you think will be the most important in determining CO2 emissions? Which provides the least amount of helpful information for determining CO2 emissions? Add your responses as comments after your code."
   ]
  },
  {
   "cell_type": "code",
   "execution_count": 63,
   "metadata": {},
   "outputs": [
    {
     "data": {
      "image/png": "[encoded data removed]",
      "text/plain": [
       "<Figure size 1944x720 with 5 Axes>"
      ]
     },
     "metadata": {
      "needs_background": "light"
     },
     "output_type": "display_data"
    }
   ],
   "source": [
    "fig, [ax1, ax2, ax3, ax4, ax5] = plt.subplots(1,5, figsize=(27, 10))\n",
    "\n",
    "ax1.scatter(vehicles.Year, vehicles['CO2 Emission Grams/Mile'])\n",
    "ax1.set_xlabel('Year')     \n",
    "ax1.set_ylabel('CO2 Emission Grams/Mile')   \n",
    "\n",
    "ax2.scatter(vehicles.Cylinders, vehicles['CO2 Emission Grams/Mile']) \n",
    "ax2.set_xlabel('Cylinders')\n",
    "ax2.set_ylabel('CO2 Emission Grams/Mile')\n",
    "\n",
    "ax3.scatter(vehicles['Fuel Barrels/Year'], vehicles['CO2 Emission Grams/Mile'])  \n",
    "ax3.set_xlabel('Fuel Barrels/Year')     \n",
    "ax3.set_ylabel('CO2 Emission Grams/Mile') \n",
    "\n",
    "ax4.scatter(vehicles['Combined MPG'], vehicles['CO2 Emission Grams/Mile'])   \n",
    "ax4.set_xlabel('Combined MPG')     \n",
    "ax4.set_ylabel('CO2 Emission Grams/Mile') \n",
    "\n",
    "ax5.scatter(vehicles['Fuel Cost/Year'], vehicles['CO2 Emission Grams/Mile'])  \n",
    "ax5.set_xlabel('Fuel Cost/Year')     \n",
    "ax5.set_ylabel('CO2 Emission Grams/Mile') \n",
    "\n",
    "plt.show()"
   ]
  },
  {
   "cell_type": "markdown",
   "metadata": {},
   "source": [
    "Build a regression model for this data. What type of regression are you using? Add your responses as comments after your code."
   ]
  },
  {
   "cell_type": "code",
   "execution_count": null,
   "metadata": {},
   "outputs": [],
   "source": [
    "#Estoy usando la regresión lineal incialmente, pero para la cuarta gráfica, la de Combined MPG es\n",
    "#obvio que no hay una relación lineal sino algo más parecido a 1/x o exp(-x)"
   ]
  },
  {
   "cell_type": "code",
   "execution_count": 64,
   "metadata": {},
   "outputs": [
    {
     "data": {
      "text/plain": [
       "(-2.62433343995282,\n",
       " 5725.863290704892,\n",
       " -0.22229960295054238,\n",
       " 0.0,\n",
       " 0.06070519740063001)"
      ]
     },
     "execution_count": 64,
     "metadata": {},
     "output_type": "execute_result"
    }
   ],
   "source": [
    "slope, intercept, r_value, p_value, std_err = linregress(vehicles.Year, vehicles['CO2 Emission Grams/Mile'])\n",
    "slope, intercept, r_value, p_value, std_err\n",
    "#Ecuación y = -2-62x + 5725.86\n",
    "#r cuadrada = 0.0484 Aquí nos marca muy poca correlación"
   ]
  },
  {
   "cell_type": "code",
   "execution_count": 65,
   "metadata": {},
   "outputs": [
    {
     "data": {
      "text/plain": [
       "(51.035185165948135,\n",
       " 181.0946356355667,\n",
       " 0.7523925537297486,\n",
       " 0.0,\n",
       " 0.235653182206501)"
      ]
     },
     "execution_count": 65,
     "metadata": {},
     "output_type": "execute_result"
    }
   ],
   "source": [
    "slope, intercept, r_value, p_value, std_err = linregress(vehicles.Cylinders, vehicles['CO2 Emission Grams/Mile'])\n",
    "slope, intercept, r_value, p_value, std_err\n",
    "#Ecuación y = 51.035x + 181.09\n",
    "#r cuadrada = 0.565504 Esta correlación es un tanto dudosa"
   ]
  },
  {
   "cell_type": "code",
   "execution_count": 66,
   "metadata": {},
   "outputs": [
    {
     "data": {
      "text/plain": [
       "(26.283625397470253,\n",
       " 12.4865208307574,\n",
       " 0.9861886621428727,\n",
       " 0.0,\n",
       " 0.02328112378922747)"
      ]
     },
     "execution_count": 66,
     "metadata": {},
     "output_type": "execute_result"
    }
   ],
   "source": [
    "slope, intercept, r_value, p_value, std_err = linregress(vehicles['Fuel Barrels/Year'], vehicles['CO2 Emission Grams/Mile'])\n",
    "slope, intercept, r_value, p_value, std_err\n",
    "#Ecuación y = 26.28x + 12.48\n",
    "#r cuadrada = 0.97239321 #Buena correlación"
   ]
  },
  {
   "cell_type": "code",
   "execution_count": 67,
   "metadata": {},
   "outputs": [
    {
     "data": {
      "text/plain": [
       "(-21.57056424135705,\n",
       " 905.2030690182295,\n",
       " -0.9262290389336442,\n",
       " 0.0,\n",
       " 0.04630099765531044)"
      ]
     },
     "execution_count": 67,
     "metadata": {},
     "output_type": "execute_result"
    }
   ],
   "source": [
    "slope, intercept, r_value, p_value, std_err = linregress(vehicles['Combined MPG'], vehicles['CO2 Emission Grams/Mile'])\n",
    "slope, intercept, r_value, p_value, std_err\n",
    "#Ecuación y = -21.57x + 905.2\n",
    "#r cuadrada = 0.857883488\n",
    "#Aquí aunque parece que todo bien, simplemente no es posible que el modelo a ajustar sea una recta, pero si quitamos los extremos podría ser"
   ]
  },
  {
   "cell_type": "code",
   "execution_count": 69,
   "metadata": {},
   "outputs": [
    {
     "data": {
      "text/plain": [
       "(0.2186165077161391,\n",
       " 61.56307241317205,\n",
       " 0.9308651512201843,\n",
       " 0.0,\n",
       " 0.0004525548399302676)"
      ]
     },
     "execution_count": 69,
     "metadata": {},
     "output_type": "execute_result"
    }
   ],
   "source": [
    "slope, intercept, r_value, p_value, std_err = linregress(vehicles['Fuel Cost/Year'], vehicles['CO2 Emission Grams/Mile'])\n",
    "slope, intercept, r_value, p_value, std_err\n",
    "#Ecuación y = 0.2186x + 61.563\n",
    "#r cuadrada = 0.866509927 #Buena correlación"
   ]
  },
  {
   "cell_type": "markdown",
   "metadata": {},
   "source": [
    "Print your regression summary, and interpret the results. What are the most important varibles in your model and why? What can conclusions can you draw from your model and how confident in these conclusions are you? Add your responses as comments after your code."
   ]
  },
  {
   "cell_type": "code",
   "execution_count": null,
   "metadata": {},
   "outputs": [],
   "source": [
    "'''\n",
    "Según el grado de correlación las variables más importantes en la emisión de CO2 son:\n",
    "Fuel Barrels/Year\n",
    "Combined MPG\n",
    "Fuel Cost/Year\n",
    "\n",
    "Por el nombre de las variables podemos suponer que Fuel Barrels/Year y Fuel Cost/Year están \n",
    "correlacionandas entre sí y por lo tanto sólo cuentan como una.\n",
    "Sin embargo como menciono antes, los datos de Combined MPG tienen una relación no lineal.\n",
    "'''"
   ]
  },
  {
   "cell_type": "markdown",
   "metadata": {},
   "source": [
    "### Ahora obtengamos más información con statsmodels"
   ]
  },
  {
   "cell_type": "code",
   "execution_count": 72,
   "metadata": {},
   "outputs": [],
   "source": [
    "import statsmodels.api as sm\n",
    "from statsmodels.formula.api import ols"
   ]
  },
  {
   "cell_type": "code",
   "execution_count": 73,
   "metadata": {},
   "outputs": [],
   "source": [
    "#Relación de CO2 Emission Grams/Mile vs Year\n",
    "X = sm.add_constant(vehicles.Year) # We must add the intercept using the add_constant function\n",
    "Y = vehicles['CO2 Emission Grams/Mile']\n",
    "model = sm.OLS(Y, X).fit()\n",
    "predictions = model.predict(X) "
   ]
  },
  {
   "cell_type": "code",
   "execution_count": 75,
   "metadata": {},
   "outputs": [
    {
     "name": "stdout",
     "output_type": "stream",
     "text": [
      "                               OLS Regression Results                              \n",
      "===================================================================================\n",
      "Dep. Variable:     CO2 Emission Grams/Mile   R-squared:                       0.049\n",
      "Model:                                 OLS   Adj. R-squared:                  0.049\n",
      "Method:                      Least Squares   F-statistic:                     1869.\n",
      "Date:                     Wed, 04 Dec 2019   Prob (F-statistic):               0.00\n",
      "Time:                             21:11:10   Log-Likelihood:            -2.2194e+05\n",
      "No. Observations:                    35952   AIC:                         4.439e+05\n",
      "Df Residuals:                        35950   BIC:                         4.439e+05\n",
      "Df Model:                                1                                         \n",
      "Covariance Type:                 nonrobust                                         \n",
      "==============================================================================\n",
      "                 coef    std err          t      P>|t|      [0.025      0.975]\n",
      "------------------------------------------------------------------------------\n",
      "const       5725.8633    121.455     47.144      0.000    5487.807    5963.920\n",
      "Year          -2.6243      0.061    -43.231      0.000      -2.743      -2.505\n",
      "==============================================================================\n",
      "Omnibus:                     3079.952   Durbin-Watson:                   0.230\n",
      "Prob(Omnibus):                  0.000   Jarque-Bera (JB):             4482.385\n",
      "Skew:                           0.686   Prob(JB):                         0.00\n",
      "Kurtosis:                       4.053   Cond. No.                     3.97e+05\n",
      "==============================================================================\n",
      "\n",
      "Warnings:\n",
      "[1] Standard Errors assume that the covariance matrix of the errors is correctly specified.\n",
      "[2] The condition number is large, 3.97e+05. This might indicate that there are\n",
      "strong multicollinearity or other numerical problems.\n"
     ]
    }
   ],
   "source": [
    "print(model.summary())"
   ]
  },
  {
   "cell_type": "code",
   "execution_count": 76,
   "metadata": {},
   "outputs": [],
   "source": [
    "#Relación de CO2 Emission Grams/Mile vs Cylinders\n",
    "X = sm.add_constant(vehicles.Cylinders) # We must add the intercept using the add_constant function\n",
    "Y = vehicles['CO2 Emission Grams/Mile']\n",
    "model = sm.OLS(Y, X).fit()\n",
    "predictions = model.predict(X) "
   ]
  },
  {
   "cell_type": "code",
   "execution_count": 77,
   "metadata": {},
   "outputs": [
    {
     "name": "stdout",
     "output_type": "stream",
     "text": [
      "                               OLS Regression Results                              \n",
      "===================================================================================\n",
      "Dep. Variable:     CO2 Emission Grams/Mile   R-squared:                       0.566\n",
      "Model:                                 OLS   Adj. R-squared:                  0.566\n",
      "Method:                      Least Squares   F-statistic:                 4.690e+04\n",
      "Date:                     Wed, 04 Dec 2019   Prob (F-statistic):               0.00\n",
      "Time:                             21:16:05   Log-Likelihood:            -2.0784e+05\n",
      "No. Observations:                    35952   AIC:                         4.157e+05\n",
      "Df Residuals:                        35950   BIC:                         4.157e+05\n",
      "Df Model:                                1                                         \n",
      "Covariance Type:                 nonrobust                                         \n",
      "==============================================================================\n",
      "                 coef    std err          t      P>|t|      [0.025      0.975]\n",
      "------------------------------------------------------------------------------\n",
      "const        181.0946      1.420    127.520      0.000     178.311     183.878\n",
      "Cylinders     51.0352      0.236    216.569      0.000      50.573      51.497\n",
      "==============================================================================\n",
      "Omnibus:                     4434.518   Durbin-Watson:                   0.435\n",
      "Prob(Omnibus):                  0.000   Jarque-Bera (JB):            11452.248\n",
      "Skew:                           0.702   Prob(JB):                         0.00\n",
      "Kurtosis:                       5.382   Cond. No.                         21.2\n",
      "==============================================================================\n",
      "\n",
      "Warnings:\n",
      "[1] Standard Errors assume that the covariance matrix of the errors is correctly specified.\n"
     ]
    }
   ],
   "source": [
    "print(model.summary())"
   ]
  },
  {
   "cell_type": "code",
   "execution_count": 78,
   "metadata": {},
   "outputs": [],
   "source": [
    "#Relación de CO2 Emission Grams/Mile vs Fuel Barrels/Year\n",
    "X = sm.add_constant(vehicles['Fuel Barrels/Year']) # We must add the intercept using the add_constant function\n",
    "Y = vehicles['CO2 Emission Grams/Mile']\n",
    "model = sm.OLS(Y, X).fit()\n",
    "predictions = model.predict(X) "
   ]
  },
  {
   "cell_type": "code",
   "execution_count": 79,
   "metadata": {},
   "outputs": [
    {
     "name": "stdout",
     "output_type": "stream",
     "text": [
      "                               OLS Regression Results                              \n",
      "===================================================================================\n",
      "Dep. Variable:     CO2 Emission Grams/Mile   R-squared:                       0.973\n",
      "Model:                                 OLS   Adj. R-squared:                  0.973\n",
      "Method:                      Least Squares   F-statistic:                 1.275e+06\n",
      "Date:                     Wed, 04 Dec 2019   Prob (F-statistic):               0.00\n",
      "Time:                             21:17:52   Log-Likelihood:            -1.5821e+05\n",
      "No. Observations:                    35952   AIC:                         3.164e+05\n",
      "Df Residuals:                        35950   BIC:                         3.164e+05\n",
      "Df Model:                                1                                         \n",
      "Covariance Type:                 nonrobust                                         \n",
      "=====================================================================================\n",
      "                        coef    std err          t      P>|t|      [0.025      0.975]\n",
      "-------------------------------------------------------------------------------------\n",
      "const                12.4865      0.423     29.523      0.000      11.658      13.316\n",
      "Fuel Barrels/Year    26.2836      0.023   1128.967      0.000      26.238      26.329\n",
      "==============================================================================\n",
      "Omnibus:                    88540.411   Durbin-Watson:                   0.907\n",
      "Prob(Omnibus):                  0.000   Jarque-Bera (JB):        957228555.961\n",
      "Skew:                          26.696   Prob(JB):                         0.00\n",
      "Kurtosis:                     800.592   Cond. No.                         74.1\n",
      "==============================================================================\n",
      "\n",
      "Warnings:\n",
      "[1] Standard Errors assume that the covariance matrix of the errors is correctly specified.\n"
     ]
    }
   ],
   "source": [
    "print(model.summary())"
   ]
  },
  {
   "cell_type": "code",
   "execution_count": 80,
   "metadata": {},
   "outputs": [],
   "source": [
    "#Relación de CO2 Emission Grams/Mile vs Combined MPG\n",
    "X = sm.add_constant(vehicles['Combined MPG']) # We must add the intercept using the add_constant function\n",
    "Y = vehicles['CO2 Emission Grams/Mile']\n",
    "model = sm.OLS(Y, X).fit()\n",
    "predictions = model.predict(X) "
   ]
  },
  {
   "cell_type": "code",
   "execution_count": 81,
   "metadata": {},
   "outputs": [
    {
     "name": "stdout",
     "output_type": "stream",
     "text": [
      "                               OLS Regression Results                              \n",
      "===================================================================================\n",
      "Dep. Variable:     CO2 Emission Grams/Mile   R-squared:                       0.858\n",
      "Model:                                 OLS   Adj. R-squared:                  0.858\n",
      "Method:                      Least Squares   F-statistic:                 2.170e+05\n",
      "Date:                     Wed, 04 Dec 2019   Prob (F-statistic):               0.00\n",
      "Time:                             21:19:35   Log-Likelihood:            -1.8778e+05\n",
      "No. Observations:                    35952   AIC:                         3.756e+05\n",
      "Df Residuals:                        35950   BIC:                         3.756e+05\n",
      "Df Model:                                1                                         \n",
      "Covariance Type:                 nonrobust                                         \n",
      "================================================================================\n",
      "                   coef    std err          t      P>|t|      [0.025      0.975]\n",
      "--------------------------------------------------------------------------------\n",
      "const          905.2031      0.953    950.221      0.000     903.336     907.070\n",
      "Combined MPG   -21.5706      0.046   -465.877      0.000     -21.661     -21.480\n",
      "==============================================================================\n",
      "Omnibus:                    23856.426   Durbin-Watson:                   0.470\n",
      "Prob(Omnibus):                  0.000   Jarque-Bera (JB):           380865.584\n",
      "Skew:                           3.004   Prob(JB):                         0.00\n",
      "Kurtosis:                      17.770   Cond. No.                         83.0\n",
      "==============================================================================\n",
      "\n",
      "Warnings:\n",
      "[1] Standard Errors assume that the covariance matrix of the errors is correctly specified.\n"
     ]
    }
   ],
   "source": [
    "print(model.summary())"
   ]
  },
  {
   "cell_type": "code",
   "execution_count": 83,
   "metadata": {},
   "outputs": [],
   "source": [
    "#Relación de CO2 Emission Grams/Mile vs Fuel Cost/Year\n",
    "X = sm.add_constant(vehicles['Fuel Cost/Year']) # We must add the intercept using the add_constant function\n",
    "Y = vehicles['CO2 Emission Grams/Mile']\n",
    "model = sm.OLS(Y, X).fit()\n",
    "predictions = model.predict(X) "
   ]
  },
  {
   "cell_type": "code",
   "execution_count": 84,
   "metadata": {},
   "outputs": [
    {
     "name": "stdout",
     "output_type": "stream",
     "text": [
      "                               OLS Regression Results                              \n",
      "===================================================================================\n",
      "Dep. Variable:     CO2 Emission Grams/Mile   R-squared:                       0.867\n",
      "Model:                                 OLS   Adj. R-squared:                  0.867\n",
      "Method:                      Least Squares   F-statistic:                 2.334e+05\n",
      "Date:                     Wed, 04 Dec 2019   Prob (F-statistic):               0.00\n",
      "Time:                             21:20:50   Log-Likelihood:            -1.8665e+05\n",
      "No. Observations:                    35952   AIC:                         3.733e+05\n",
      "Df Residuals:                        35950   BIC:                         3.733e+05\n",
      "Df Model:                                1                                         \n",
      "Covariance Type:                 nonrobust                                         \n",
      "==================================================================================\n",
      "                     coef    std err          t      P>|t|      [0.025      0.975]\n",
      "----------------------------------------------------------------------------------\n",
      "const             61.5631      0.887     69.430      0.000      59.825      63.301\n",
      "Fuel Cost/Year     0.2186      0.000    483.072      0.000       0.218       0.220\n",
      "==============================================================================\n",
      "Omnibus:                     1566.464   Durbin-Watson:                   0.351\n",
      "Prob(Omnibus):                  0.000   Jarque-Bera (JB):             1323.699\n",
      "Skew:                          -0.399   Prob(JB):                    3.65e-288\n",
      "Kurtosis:                       2.502   Cond. No.                     7.57e+03\n",
      "==============================================================================\n",
      "\n",
      "Warnings:\n",
      "[1] Standard Errors assume that the covariance matrix of the errors is correctly specified.\n",
      "[2] The condition number is large, 7.57e+03. This might indicate that there are\n",
      "strong multicollinearity or other numerical problems.\n"
     ]
    }
   ],
   "source": [
    "print(model.summary())"
   ]
  },
  {
   "cell_type": "markdown",
   "metadata": {},
   "source": [
    "## Bonus Challenge: Error Analysis"
   ]
  },
  {
   "cell_type": "markdown",
   "metadata": {},
   "source": [
    "I am suspicious about the last few parties I have thrown: it seems that the more people I invite the more people are unable to attend. To know if my hunch is supported by data, I have decided to do an analysis. I have collected my data in the table below, where X is the number of people I invited, and Y is the number of people who attended. \n",
    "\n",
    "|  X |  Y |\n",
    "|----|----|\n",
    "| 1  |  1 |\n",
    "| 3  |  2 |\n",
    "| 4  |  4 |\n",
    "| 6  |  4 |\n",
    "| 8  |  5 |\n",
    "| 9  |  7 |\n",
    "| 11 |  8 |\n",
    "| 14 |  13 |"
   ]
  },
  {
   "cell_type": "markdown",
   "metadata": {},
   "source": [
    "We want to know if the relationship modeled by the two random variables is linear or not, and therefore if it is appropriate to model it with a linear regression. \n",
    "First, build a dataframe with the data. "
   ]
  },
  {
   "cell_type": "code",
   "execution_count": 7,
   "metadata": {},
   "outputs": [],
   "source": [
    "# Your code here. "
   ]
  },
  {
   "cell_type": "markdown",
   "metadata": {},
   "source": [
    "Draw a dispersion diagram (scatter plot) for the data, and fit a regression line."
   ]
  },
  {
   "cell_type": "code",
   "execution_count": 1,
   "metadata": {},
   "outputs": [],
   "source": [
    "# Your code here."
   ]
  },
  {
   "cell_type": "markdown",
   "metadata": {},
   "source": [
    "What do you see? What does this plot tell you about the likely relationship between the variables? Print the results from your regression."
   ]
  },
  {
   "cell_type": "code",
   "execution_count": 2,
   "metadata": {},
   "outputs": [],
   "source": [
    "# Your response here. "
   ]
  },
  {
   "cell_type": "markdown",
   "metadata": {},
   "source": [
    "Do you see any problematic points, or outliers, in your data? Remove these points and recalculate your regression. Print the new dispersion diagram with your new model and the results of your model. "
   ]
  },
  {
   "cell_type": "code",
   "execution_count": 5,
   "metadata": {},
   "outputs": [],
   "source": [
    "# Your response here. "
   ]
  },
  {
   "cell_type": "markdown",
   "metadata": {},
   "source": [
    "What changed? Based on the results of the two models and your graphs, what can you say about the form of the data with the problematic point and without it?"
   ]
  },
  {
   "cell_type": "code",
   "execution_count": null,
   "metadata": {},
   "outputs": [],
   "source": [
    "# Your response here. "
   ]
  }
 ],
 "metadata": {
  "kernelspec": {
   "display_name": "Python 3",
   "language": "python",
   "name": "python3"
  },
  "language_info": {
   "codemirror_mode": {
    "name": "ipython",
    "version": 3
   },
   "file_extension": ".py",
   "mimetype": "text/x-python",
   "name": "python",
   "nbconvert_exporter": "python",
   "pygments_lexer": "ipython3",
   "version": "3.7.3"
  }
 },
 "nbformat": 4,
 "nbformat_minor": 2
}
